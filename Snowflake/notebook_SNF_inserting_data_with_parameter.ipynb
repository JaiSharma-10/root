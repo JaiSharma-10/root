{
 "metadata": {
  "kernelspec": {
   "display_name": "Streamlit Notebook",
   "name": "streamlit"
  }
 },
 "nbformat_minor": 5,
 "nbformat": 4,
 "cells": [
  {
   "cell_type": "markdown",
   "id": "ac661b6e-20a7-4143-b762-986e5b0f9348",
   "metadata": {
    "name": "Title_cell",
    "collapsed": false
   },
   "source": "Markdown is just text. **But** :red[you] can :blue[also] make it :green[fancy]!"
  },
  {
   "cell_type": "code",
   "id": "eab6424c-a12a-43a9-815a-9c7441ed59c2",
   "metadata": {
    "language": "sql",
    "name": "set_root_depth_code"
   },
   "outputs": [],
   "source": "set fn = 'Tulip';",
   "execution_count": null
  },
  {
   "cell_type": "code",
   "id": "fe330fbb-f0a8-4748-a1f0-934e6b1827a0",
   "metadata": {
    "language": "sql",
    "name": "set_flower_name"
   },
   "outputs": [],
   "source": "set rdc = 'M';",
   "execution_count": null
  },
  {
   "cell_type": "code",
   "id": "1052e2a1-1b8b-4b79-b0cb-a60354f9a50d",
   "metadata": {
    "language": "sql",
    "name": "check_my_variables"
   },
   "outputs": [],
   "source": "select $fn, $rdc;",
   "execution_count": null
  },
  {
   "cell_type": "code",
   "id": "bec1b4a4-b550-41c4-aad5-f67d6912bca9",
   "metadata": {
    "language": "sql",
    "name": "insert_row"
   },
   "outputs": [],
   "source": "insert into garden_plants.flowers.flower_details\nselect $fn,$rdc;",
   "execution_count": null
  },
  {
   "cell_type": "code",
   "id": "957985c5-6fe2-40d6-8d0c-a1752672dbf0",
   "metadata": {
    "language": "sql",
    "name": "check_the_table"
   },
   "outputs": [],
   "source": "SELECT *  from garden_plants.flowers.flower_details;",
   "execution_count": null
  }
 ]
}